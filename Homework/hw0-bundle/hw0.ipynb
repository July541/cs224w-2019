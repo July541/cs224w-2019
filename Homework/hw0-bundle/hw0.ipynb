{
 "nbformat": 4,
 "nbformat_minor": 2,
 "metadata": {
  "language_info": {
   "name": "python",
   "codemirror_mode": {
    "name": "ipython",
    "version": 3
   },
   "version": "3.7.4-final"
  },
  "orig_nbformat": 2,
  "file_extension": ".py",
  "mimetype": "text/x-python",
  "name": "python",
  "npconvert_exporter": "python",
  "pygments_lexer": "ipython3",
  "version": 3,
  "kernelspec": {
   "name": "python37464bitvirtualenv98ceb531d767422c814a33be6e293895",
   "display_name": "Python 3.7.4 64-bit (virtualenv)"
  }
 },
 "cells": [
  {
   "cell_type": "code",
   "execution_count": 1,
   "metadata": {},
   "outputs": [],
   "source": [
    "import snap"
   ]
  },
  {
   "cell_type": "markdown",
   "execution_count": null,
   "metadata": {},
   "outputs": [],
   "source": [
    "## Prepare work"
   ]
  },
  {
   "cell_type": "code",
   "execution_count": 2,
   "metadata": {},
   "outputs": [],
   "source": [
    "def build_small_graph():\n",
    "    g_small = snap.TNGraph.New()\n",
    "\n",
    "    g_small.AddNode(1)\n",
    "    g_small.AddNode(2)\n",
    "    g_small.AddNode(3)\n",
    "\n",
    "    g_small.AddEdge(1, 2)\n",
    "    g_small.AddEdge(2, 1)\n",
    "    g_small.AddEdge(1, 3)\n",
    "    g_small.AddEdge(1, 1)\n",
    "\n",
    "    return g_small"
   ]
  },
  {
   "cell_type": "code",
   "execution_count": 3,
   "metadata": {},
   "outputs": [],
   "source": [
    "g_small = build_small_graph()"
   ]
  },
  {
   "cell_type": "code",
   "execution_count": 4,
   "metadata": {},
   "outputs": [],
   "source": [
    "g_wiki = snap.LoadEdgeList_PNGraph(\"Wiki-Vote.txt\")"
   ]
  },
  {
   "cell_type": "code",
   "execution_count": 5,
   "metadata": {},
   "outputs": [],
   "source": [
    "def run_result(g_real, g_small, f):\n",
    "    print(f\"The result of test data is: {f(g_small)}\")\n",
    "    print(f\"The result of real data is: {f(g_real)}\")"
   ]
  },
  {
   "cell_type": "markdown",
   "execution_count": null,
   "metadata": {},
   "outputs": [],
   "source": [
    "## Analyzing the Wikipedia voters network"
   ]
  },
  {
   "cell_type": "code",
   "execution_count": 6,
   "metadata": {},
   "outputs": [],
   "source": [
    "def run_result_for_wiki_votes(f):\n",
    "    run_result(g_wiki, g_small, f)"
   ]
  },
  {
   "cell_type": "markdown",
   "execution_count": null,
   "metadata": {},
   "outputs": [],
   "source": [
    "### 1. The number of nodes in the network"
   ]
  },
  {
   "cell_type": "code",
   "execution_count": 7,
   "metadata": {},
   "outputs": [],
   "source": [
    "def number_of_nodes(g: snap.PNGraph):\n",
    "    return g.GetNodes()"
   ]
  },
  {
   "cell_type": "code",
   "execution_count": 8,
   "metadata": {},
   "outputs": [
    {
     "name": "stdout",
     "output_type": "stream",
     "text": "The result of test data is: 3\nThe result of real data is: 7115\n"
    }
   ],
   "source": [
    "run_result_for_wiki_votes(number_of_nodes)"
   ]
  },
  {
   "cell_type": "markdown",
   "execution_count": null,
   "metadata": {},
   "outputs": [],
   "source": [
    "### 2. The number of nodes with a self-edge(self-loop)"
   ]
  },
  {
   "cell_type": "code",
   "execution_count": 9,
   "metadata": {},
   "outputs": [],
   "source": [
    "def number_of_self_loop(g: snap.PNGraph):\n",
    "    return snap.CntSelfEdges(g)"
   ]
  },
  {
   "cell_type": "code",
   "execution_count": 10,
   "metadata": {},
   "outputs": [
    {
     "name": "stdout",
     "output_type": "stream",
     "text": "The result of test data is: 1\nThe result of real data is: 0\n"
    }
   ],
   "source": [
    "run_result_for_wiki_votes(number_of_self_loop)"
   ]
  },
  {
   "cell_type": "markdown",
   "execution_count": null,
   "metadata": {},
   "outputs": [],
   "source": [
    "### 3. The number of directed edges in the network. (The number of ordered pairs $(a, b) \\in E$ for which $a \\neq b$)"
   ]
  },
  {
   "cell_type": "code",
   "execution_count": 11,
   "metadata": {},
   "outputs": [],
   "source": [
    "def number_of_directed_edges(g: snap.PNGraph):\n",
    "    return snap.CntUniqDirEdges(g)"
   ]
  },
  {
   "cell_type": "code",
   "execution_count": 12,
   "metadata": {},
   "outputs": [
    {
     "name": "stdout",
     "output_type": "stream",
     "text": "The result of test data is: 3\nThe result of real data is: 103689\n"
    }
   ],
   "source": [
    "run_result_for_wiki_votes(number_of_directed_edges)"
   ]
  },
  {
   "cell_type": "markdown",
   "execution_count": null,
   "metadata": {},
   "outputs": [],
   "source": [
    "### 4. The number of undirected edges in the network. (The number of unique unordered pairs $(a, b), a \\neq b$, for which $(a, b) \\in E or (b, a) \\in E $ (or both)). If both (a, b) and (b, a) are edges, this counts a single undirected edges"
   ]
  },
  {
   "cell_type": "code",
   "execution_count": 13,
   "metadata": {},
   "outputs": [],
   "source": [
    "def number_of_undirected_edges(g: snap.PNGraph):\n",
    "    return snap.CntUniqUndirEdges(g)"
   ]
  },
  {
   "cell_type": "code",
   "execution_count": 14,
   "metadata": {},
   "outputs": [
    {
     "name": "stdout",
     "output_type": "stream",
     "text": "The result of test data is: 2\nThe result of real data is: 100762\n"
    }
   ],
   "source": [
    "run_result_for_wiki_votes(number_of_undirected_edges)"
   ]
  },
  {
   "cell_type": "markdown",
   "execution_count": null,
   "metadata": {},
   "outputs": [],
   "source": [
    "### 5. The number of reciprocated edges in the network. (The number of unique unorded pairs of nodes $(a,b)$, $a\\neq b$, for which $(a, b) \\in E$ and $(b, a)\\in E$)"
   ]
  },
  {
   "cell_type": "code",
   "execution_count": 15,
   "metadata": {},
   "outputs": [],
   "source": [
    "def number_of_reciprocated_edges(g: snap.PNGraph):\n",
    "    return snap.CntUniqBiDirEdges(g)"
   ]
  },
  {
   "cell_type": "code",
   "execution_count": 16,
   "metadata": {},
   "outputs": [
    {
     "name": "stdout",
     "output_type": "stream",
     "text": "The result of test data is: 1\nThe result of real data is: 2927\n"
    }
   ],
   "source": [
    "run_result_for_wiki_votes(number_of_reciprocated_edges)"
   ]
  },
  {
   "cell_type": "markdown",
   "execution_count": null,
   "metadata": {},
   "outputs": [],
   "source": [
    "### 6. The number of nodes of zero out-degree"
   ]
  },
  {
   "cell_type": "code",
   "execution_count": 17,
   "metadata": {},
   "outputs": [],
   "source": [
    "def number_of_nodes_of_zero_out_degree(g: snap.PNGraph):\n",
    "    deg_cnt_pr = snap.TIntPrV()\n",
    "    snap.GetOutDegCnt(g, deg_cnt_pr)\n",
    "    for item in deg_cnt_pr:\n",
    "        if item.GetVal1() == 0:\n",
    "            return item.GetVal2()\n",
    "    return 0"
   ]
  },
  {
   "cell_type": "code",
   "execution_count": 18,
   "metadata": {},
   "outputs": [
    {
     "name": "stdout",
     "output_type": "stream",
     "text": "The result of test data is: 1\nThe result of real data is: 1005\n"
    }
   ],
   "source": [
    "run_result_for_wiki_votes(number_of_nodes_of_zero_out_degree)"
   ]
  },
  {
   "cell_type": "markdown",
   "execution_count": null,
   "metadata": {},
   "outputs": [],
   "source": [
    "### 7. The number of nodes of zero in-degree"
   ]
  },
  {
   "cell_type": "code",
   "execution_count": 19,
   "metadata": {},
   "outputs": [],
   "source": [
    "def number_of_nodes_of_zero_in_degree(g: snap.PNGraph):\n",
    "    deg_cnt_pr = snap.TIntPrV()\n",
    "    snap.GetInDegCnt(g, deg_cnt_pr)\n",
    "    for item in deg_cnt_pr:\n",
    "        if item.GetVal1() == 0:\n",
    "            return item.GetVal2()\n",
    "    return 0"
   ]
  },
  {
   "cell_type": "code",
   "execution_count": 20,
   "metadata": {},
   "outputs": [
    {
     "name": "stdout",
     "output_type": "stream",
     "text": "The result of test data is: 0\nThe result of real data is: 4734\n"
    }
   ],
   "source": [
    "run_result_for_wiki_votes(number_of_nodes_of_zero_in_degree)"
   ]
  },
  {
   "cell_type": "markdown",
   "execution_count": null,
   "metadata": {},
   "outputs": [],
   "source": [
    "### 8. The number of nodes with more than 10 outgoing edges"
   ]
  },
  {
   "cell_type": "code",
   "execution_count": 21,
   "metadata": {},
   "outputs": [],
   "source": [
    "def number_of_nodes_with_ten_more_out_degree(g: snap.PNGraph):\n",
    "    deg_cnt_pr = snap.TIntPrV()\n",
    "    snap.GetOutDegCnt(g, deg_cnt_pr)\n",
    "    cnt = 0\n",
    "    for item in deg_cnt_pr:\n",
    "        if item.GetVal1() > 10:\n",
    "            cnt += item.GetVal2()\n",
    "    return cnt"
   ]
  },
  {
   "cell_type": "code",
   "execution_count": 22,
   "metadata": {},
   "outputs": [
    {
     "name": "stdout",
     "output_type": "stream",
     "text": "The result of test data is: 0\nThe result of real data is: 1612\n"
    }
   ],
   "source": [
    "run_result_for_wiki_votes(number_of_nodes_with_ten_more_out_degree)"
   ]
  },
  {
   "cell_type": "markdown",
   "execution_count": null,
   "metadata": {},
   "outputs": [],
   "source": [
    "### 9. The number of nodes with fewer than 10 incoming edges"
   ]
  },
  {
   "cell_type": "code",
   "execution_count": 23,
   "metadata": {},
   "outputs": [],
   "source": [
    "def number_of_nodes_with_ten_fewer_in_degree(g: snap.PNGraph):\n",
    "    deg_cnt_pr = snap.TIntPrV()\n",
    "    snap.GetInDegCnt(g, deg_cnt_pr)\n",
    "    cnt = 0\n",
    "    for item in deg_cnt_pr:\n",
    "        if item.GetVal1() < 10:\n",
    "            cnt += item.GetVal2()\n",
    "    return cnt"
   ]
  },
  {
   "cell_type": "code",
   "execution_count": 24,
   "metadata": {},
   "outputs": [
    {
     "name": "stdout",
     "output_type": "stream",
     "text": "The result of test data is: 3\nThe result of real data is: 5165\n"
    }
   ],
   "source": [
    "run_result_for_wiki_votes(number_of_nodes_with_ten_fewer_in_degree)"
   ]
  },
  {
   "cell_type": "markdown",
   "execution_count": null,
   "metadata": {},
   "outputs": [],
   "source": [
    "## Futher analyzing the Wikipedia voters network"
   ]
  },
  {
   "cell_type": "markdown",
   "execution_count": null,
   "metadata": {},
   "outputs": [],
   "source": [
    "### 1. Plot data"
   ]
  },
  {
   "cell_type": "code",
   "execution_count": 25,
   "metadata": {},
   "outputs": [],
   "source": [
    "import numpy as np\n",
    "import matplotlib.pyplot as plt"
   ]
  },
  {
   "cell_type": "code",
   "execution_count": 26,
   "metadata": {},
   "outputs": [
    {
     "data": {
      "text/plain": "[<matplotlib.lines.Line2D at 0x896b5c8>]"
     },
     "execution_count": 26,
     "metadata": {},
     "output_type": "execute_result"
    },
    {
     "data": {
      "image/png": "[encoded data removed]",
      "image/svg+xml": "<?xml version=\"1.0\" encoding=\"utf-8\" standalone=\"no\"?>\r\n<!DOCTYPE svg PUBLIC \"-//W3C//DTD SVG 1.1//EN\"\r\n  \"http://www.w3.org/Graphics/SVG/1.1/DTD/svg11.dtd\">\r\n<!-- Created with matplotlib (https://matplotlib.org/) -->\r\n<svg height=\"249.637047pt\" version=\"1.1\" viewBox=\"0 0 372.103125 249.637047\" width=\"372.103125pt\" xmlns=\"http://www.w3.org/2000/svg\" xmlns:xlink=\"http://www.w3.org/1999/xlink\">\r\n <defs>\r\n  <style type=\"text/css\">\r\n*{stroke-linecap:butt;stroke-linejoin:round;}\r\n  </style>\r\n </defs>\r\n <g id=\"figure_1\">\r\n  <g id=\"patch_1\">\r\n   <path d=\"M 0 249.637047 \r\nL 372.103125 249.637047 \r\nL 372.103125 0 \r\nL 0 0 \r\nz\r\n\" style=\"fill:none;\"/>\r\n  </g>\r\n  <g id=\"axes_1\">\r\n   <g id=\"patch_2\">\r\n    <path d=\"M 30.103125 225.758922 \r\nL 364.903125 225.758922 \r\nL 364.903125 8.318922 \r\nL 30.103125 8.318922 \r\nz\r\n\" style=\"fill:#ffffff;\"/>\r\n   </g>\r\n   <g id=\"matplotlib.axis_1\">\r\n    <g id=\"xtick_1\">\r\n     <g id=\"line2d_1\">\r\n      <defs>\r\n       <path d=\"M 0 0 \r\nL 0 3.5 \r\n\" id=\"md7ba0fc5be\" style=\"stroke:#000000;stroke-width:0.8;\"/>\r\n      </defs>\r\n      <g>\r\n       <use style=\"stroke:#000000;stroke-width:0.8;\" x=\"45.321307\" xlink:href=\"#md7ba0fc5be\" y=\"225.758922\"/>\r\n      </g>\r\n     </g>\r\n     <g id=\"text_1\">\r\n      <!-- 0.0 -->\r\n      <defs>\r\n       <path d=\"M 31.78125 66.40625 \r\nQ 24.171875 66.40625 20.328125 58.90625 \r\nQ 16.5 51.421875 16.5 36.375 \r\nQ 16.5 21.390625 20.328125 13.890625 \r\nQ 24.171875 6.390625 31.78125 6.390625 \r\nQ 39.453125 6.390625 43.28125 13.890625 \r\nQ 47.125 21.390625 47.125 36.375 \r\nQ 47.125 51.421875 43.28125 58.90625 \r\nQ 39.453125 66.40625 31.78125 66.40625 \r\nz\r\nM 31.78125 74.21875 \r\nQ 44.046875 74.21875 50.515625 64.515625 \r\nQ 56.984375 54.828125 56.984375 36.375 \r\nQ 56.984375 17.96875 50.515625 8.265625 \r\nQ 44.046875 -1.421875 31.78125 -1.421875 \r\nQ 19.53125 -1.421875 13.0625 8.265625 \r\nQ 6.59375 17.96875 6.59375 36.375 \r\nQ 6.59375 54.828125 13.0625 64.515625 \r\nQ 19.53125 74.21875 31.78125 74.21875 \r\nz\r\n\" id=\"DejaVuSans-48\"/>\r\n       <path d=\"M 10.6875 12.40625 \r\nL 21 12.40625 \r\nL 21 0 \r\nL 10.6875 0 \r\nz\r\n\" id=\"DejaVuSans-46\"/>\r\n      </defs>\r\n      <g transform=\"translate(37.369744 240.35736)scale(0.1 -0.1)\">\r\n       <use xlink:href=\"#DejaVuSans-48\"/>\r\n       <use x=\"63.623047\" xlink:href=\"#DejaVuSans-46\"/>\r\n       <use x=\"95.410156\" xlink:href=\"#DejaVuSans-48\"/>\r\n      </g>\r\n     </g>\r\n    </g>\r\n    <g id=\"xtick_2\">\r\n     <g id=\"line2d_2\">\r\n      <g>\r\n       <use style=\"stroke:#000000;stroke-width:0.8;\" x=\"96.893479\" xlink:href=\"#md7ba0fc5be\" y=\"225.758922\"/>\r\n      </g>\r\n     </g>\r\n     <g id=\"text_2\">\r\n      <!-- 0.5 -->\r\n      <defs>\r\n       <path d=\"M 10.796875 72.90625 \r\nL 49.515625 72.90625 \r\nL 49.515625 64.59375 \r\nL 19.828125 64.59375 \r\nL 19.828125 46.734375 \r\nQ 21.96875 47.46875 24.109375 47.828125 \r\nQ 26.265625 48.1875 28.421875 48.1875 \r\nQ 40.625 48.1875 47.75 41.5 \r\nQ 54.890625 34.8125 54.890625 23.390625 \r\nQ 54.890625 11.625 47.5625 5.09375 \r\nQ 40.234375 -1.421875 26.90625 -1.421875 \r\nQ 22.3125 -1.421875 17.546875 -0.640625 \r\nQ 12.796875 0.140625 7.71875 1.703125 \r\nL 7.71875 11.625 \r\nQ 12.109375 9.234375 16.796875 8.0625 \r\nQ 21.484375 6.890625 26.703125 6.890625 \r\nQ 35.15625 6.890625 40.078125 11.328125 \r\nQ 45.015625 15.765625 45.015625 23.390625 \r\nQ 45.015625 31 40.078125 35.4375 \r\nQ 35.15625 39.890625 26.703125 39.890625 \r\nQ 22.75 39.890625 18.8125 39.015625 \r\nQ 14.890625 38.140625 10.796875 36.28125 \r\nz\r\n\" id=\"DejaVuSans-53\"/>\r\n      </defs>\r\n      <g transform=\"translate(88.941916 240.35736)scale(0.1 -0.1)\">\r\n       <use xlink:href=\"#DejaVuSans-48\"/>\r\n       <use x=\"63.623047\" xlink:href=\"#DejaVuSans-46\"/>\r\n       <use x=\"95.410156\" xlink:href=\"#DejaVuSans-53\"/>\r\n      </g>\r\n     </g>\r\n    </g>\r\n    <g id=\"xtick_3\">\r\n     <g id=\"line2d_3\">\r\n      <g>\r\n       <use style=\"stroke:#000000;stroke-width:0.8;\" x=\"148.46565\" xlink:href=\"#md7ba0fc5be\" y=\"225.758922\"/>\r\n      </g>\r\n     </g>\r\n     <g id=\"text_3\">\r\n      <!-- 1.0 -->\r\n      <defs>\r\n       <path d=\"M 12.40625 8.296875 \r\nL 28.515625 8.296875 \r\nL 28.515625 63.921875 \r\nL 10.984375 60.40625 \r\nL 10.984375 69.390625 \r\nL 28.421875 72.90625 \r\nL 38.28125 72.90625 \r\nL 38.28125 8.296875 \r\nL 54.390625 8.296875 \r\nL 54.390625 0 \r\nL 12.40625 0 \r\nz\r\n\" id=\"DejaVuSans-49\"/>\r\n      </defs>\r\n      <g transform=\"translate(140.514088 240.35736)scale(0.1 -0.1)\">\r\n       <use xlink:href=\"#DejaVuSans-49\"/>\r\n       <use x=\"63.623047\" xlink:href=\"#DejaVuSans-46\"/>\r\n       <use x=\"95.410156\" xlink:href=\"#DejaVuSans-48\"/>\r\n      </g>\r\n     </g>\r\n    </g>\r\n    <g id=\"xtick_4\">\r\n     <g id=\"line2d_4\">\r\n      <g>\r\n       <use style=\"stroke:#000000;stroke-width:0.8;\" x=\"200.037822\" xlink:href=\"#md7ba0fc5be\" y=\"225.758922\"/>\r\n      </g>\r\n     </g>\r\n     <g id=\"text_4\">\r\n      <!-- 1.5 -->\r\n      <g transform=\"translate(192.08626 240.35736)scale(0.1 -0.1)\">\r\n       <use xlink:href=\"#DejaVuSans-49\"/>\r\n       <use x=\"63.623047\" xlink:href=\"#DejaVuSans-46\"/>\r\n       <use x=\"95.410156\" xlink:href=\"#DejaVuSans-53\"/>\r\n      </g>\r\n     </g>\r\n    </g>\r\n    <g id=\"xtick_5\">\r\n     <g id=\"line2d_5\">\r\n      <g>\r\n       <use style=\"stroke:#000000;stroke-width:0.8;\" x=\"251.609994\" xlink:href=\"#md7ba0fc5be\" y=\"225.758922\"/>\r\n      </g>\r\n     </g>\r\n     <g id=\"text_5\">\r\n      <!-- 2.0 -->\r\n      <defs>\r\n       <path d=\"M 19.1875 8.296875 \r\nL 53.609375 8.296875 \r\nL 53.609375 0 \r\nL 7.328125 0 \r\nL 7.328125 8.296875 \r\nQ 12.9375 14.109375 22.625 23.890625 \r\nQ 32.328125 33.6875 34.8125 36.53125 \r\nQ 39.546875 41.84375 41.421875 45.53125 \r\nQ 43.3125 49.21875 43.3125 52.78125 \r\nQ 43.3125 58.59375 39.234375 62.25 \r\nQ 35.15625 65.921875 28.609375 65.921875 \r\nQ 23.96875 65.921875 18.8125 64.3125 \r\nQ 13.671875 62.703125 7.8125 59.421875 \r\nL 7.8125 69.390625 \r\nQ 13.765625 71.78125 18.9375 73 \r\nQ 24.125 74.21875 28.421875 74.21875 \r\nQ 39.75 74.21875 46.484375 68.546875 \r\nQ 53.21875 62.890625 53.21875 53.421875 \r\nQ 53.21875 48.921875 51.53125 44.890625 \r\nQ 49.859375 40.875 45.40625 35.40625 \r\nQ 44.1875 33.984375 37.640625 27.21875 \r\nQ 31.109375 20.453125 19.1875 8.296875 \r\nz\r\n\" id=\"DejaVuSans-50\"/>\r\n      </defs>\r\n      <g transform=\"translate(243.658431 240.35736)scale(0.1 -0.1)\">\r\n       <use xlink:href=\"#DejaVuSans-50\"/>\r\n       <use x=\"63.623047\" xlink:href=\"#DejaVuSans-46\"/>\r\n       <use x=\"95.410156\" xlink:href=\"#DejaVuSans-48\"/>\r\n      </g>\r\n     </g>\r\n    </g>\r\n    <g id=\"xtick_6\">\r\n     <g id=\"line2d_6\">\r\n      <g>\r\n       <use style=\"stroke:#000000;stroke-width:0.8;\" x=\"303.182165\" xlink:href=\"#md7ba0fc5be\" y=\"225.758922\"/>\r\n      </g>\r\n     </g>\r\n     <g id=\"text_6\">\r\n      <!-- 2.5 -->\r\n      <g transform=\"translate(295.230603 240.35736)scale(0.1 -0.1)\">\r\n       <use xlink:href=\"#DejaVuSans-50\"/>\r\n       <use x=\"63.623047\" xlink:href=\"#DejaVuSans-46\"/>\r\n       <use x=\"95.410156\" xlink:href=\"#DejaVuSans-53\"/>\r\n      </g>\r\n     </g>\r\n    </g>\r\n    <g id=\"xtick_7\">\r\n     <g id=\"line2d_7\">\r\n      <g>\r\n       <use style=\"stroke:#000000;stroke-width:0.8;\" x=\"354.754337\" xlink:href=\"#md7ba0fc5be\" y=\"225.758922\"/>\r\n      </g>\r\n     </g>\r\n     <g id=\"text_7\">\r\n      <!-- 3.0 -->\r\n      <defs>\r\n       <path d=\"M 40.578125 39.3125 \r\nQ 47.65625 37.796875 51.625 33 \r\nQ 55.609375 28.21875 55.609375 21.1875 \r\nQ 55.609375 10.40625 48.1875 4.484375 \r\nQ 40.765625 -1.421875 27.09375 -1.421875 \r\nQ 22.515625 -1.421875 17.65625 -0.515625 \r\nQ 12.796875 0.390625 7.625 2.203125 \r\nL 7.625 11.71875 \r\nQ 11.71875 9.328125 16.59375 8.109375 \r\nQ 21.484375 6.890625 26.8125 6.890625 \r\nQ 36.078125 6.890625 40.9375 10.546875 \r\nQ 45.796875 14.203125 45.796875 21.1875 \r\nQ 45.796875 27.640625 41.28125 31.265625 \r\nQ 36.765625 34.90625 28.71875 34.90625 \r\nL 20.21875 34.90625 \r\nL 20.21875 43.015625 \r\nL 29.109375 43.015625 \r\nQ 36.375 43.015625 40.234375 45.921875 \r\nQ 44.09375 48.828125 44.09375 54.296875 \r\nQ 44.09375 59.90625 40.109375 62.90625 \r\nQ 36.140625 65.921875 28.71875 65.921875 \r\nQ 24.65625 65.921875 20.015625 65.03125 \r\nQ 15.375 64.15625 9.8125 62.3125 \r\nL 9.8125 71.09375 \r\nQ 15.4375 72.65625 20.34375 73.4375 \r\nQ 25.25 74.21875 29.59375 74.21875 \r\nQ 40.828125 74.21875 47.359375 69.109375 \r\nQ 53.90625 64.015625 53.90625 55.328125 \r\nQ 53.90625 49.265625 50.4375 45.09375 \r\nQ 46.96875 40.921875 40.578125 39.3125 \r\nz\r\n\" id=\"DejaVuSans-51\"/>\r\n      </defs>\r\n      <g transform=\"translate(346.802775 240.35736)scale(0.1 -0.1)\">\r\n       <use xlink:href=\"#DejaVuSans-51\"/>\r\n       <use x=\"63.623047\" xlink:href=\"#DejaVuSans-46\"/>\r\n       <use x=\"95.410156\" xlink:href=\"#DejaVuSans-48\"/>\r\n      </g>\r\n     </g>\r\n    </g>\r\n   </g>\r\n   <g id=\"matplotlib.axis_2\">\r\n    <g id=\"ytick_1\">\r\n     <g id=\"line2d_8\">\r\n      <defs>\r\n       <path d=\"M 0 0 \r\nL -3.5 0 \r\n\" id=\"m4869f9fde2\" style=\"stroke:#000000;stroke-width:0.8;\"/>\r\n      </defs>\r\n      <g>\r\n       <use style=\"stroke:#000000;stroke-width:0.8;\" x=\"30.103125\" xlink:href=\"#m4869f9fde2\" y=\"215.875286\"/>\r\n      </g>\r\n     </g>\r\n     <g id=\"text_8\">\r\n      <!-- 0.0 -->\r\n      <g transform=\"translate(7.2 219.674504)scale(0.1 -0.1)\">\r\n       <use xlink:href=\"#DejaVuSans-48\"/>\r\n       <use x=\"63.623047\" xlink:href=\"#DejaVuSans-46\"/>\r\n       <use x=\"95.410156\" xlink:href=\"#DejaVuSans-48\"/>\r\n      </g>\r\n     </g>\r\n    </g>\r\n    <g id=\"ytick_2\">\r\n     <g id=\"line2d_9\">\r\n      <g>\r\n       <use style=\"stroke:#000000;stroke-width:0.8;\" x=\"30.103125\" xlink:href=\"#m4869f9fde2\" y=\"186.607276\"/>\r\n      </g>\r\n     </g>\r\n     <g id=\"text_9\">\r\n      <!-- 0.5 -->\r\n      <g transform=\"translate(7.2 190.406495)scale(0.1 -0.1)\">\r\n       <use xlink:href=\"#DejaVuSans-48\"/>\r\n       <use x=\"63.623047\" xlink:href=\"#DejaVuSans-46\"/>\r\n       <use x=\"95.410156\" xlink:href=\"#DejaVuSans-53\"/>\r\n      </g>\r\n     </g>\r\n    </g>\r\n    <g id=\"ytick_3\">\r\n     <g id=\"line2d_10\">\r\n      <g>\r\n       <use style=\"stroke:#000000;stroke-width:0.8;\" x=\"30.103125\" xlink:href=\"#m4869f9fde2\" y=\"157.339267\"/>\r\n      </g>\r\n     </g>\r\n     <g id=\"text_10\">\r\n      <!-- 1.0 -->\r\n      <g transform=\"translate(7.2 161.138485)scale(0.1 -0.1)\">\r\n       <use xlink:href=\"#DejaVuSans-49\"/>\r\n       <use x=\"63.623047\" xlink:href=\"#DejaVuSans-46\"/>\r\n       <use x=\"95.410156\" xlink:href=\"#DejaVuSans-48\"/>\r\n      </g>\r\n     </g>\r\n    </g>\r\n    <g id=\"ytick_4\">\r\n     <g id=\"line2d_11\">\r\n      <g>\r\n       <use style=\"stroke:#000000;stroke-width:0.8;\" x=\"30.103125\" xlink:href=\"#m4869f9fde2\" y=\"128.071257\"/>\r\n      </g>\r\n     </g>\r\n     <g id=\"text_11\">\r\n      <!-- 1.5 -->\r\n      <g transform=\"translate(7.2 131.870476)scale(0.1 -0.1)\">\r\n       <use xlink:href=\"#DejaVuSans-49\"/>\r\n       <use x=\"63.623047\" xlink:href=\"#DejaVuSans-46\"/>\r\n       <use x=\"95.410156\" xlink:href=\"#DejaVuSans-53\"/>\r\n      </g>\r\n     </g>\r\n    </g>\r\n    <g id=\"ytick_5\">\r\n     <g id=\"line2d_12\">\r\n      <g>\r\n       <use style=\"stroke:#000000;stroke-width:0.8;\" x=\"30.103125\" xlink:href=\"#m4869f9fde2\" y=\"98.803247\"/>\r\n      </g>\r\n     </g>\r\n     <g id=\"text_12\">\r\n      <!-- 2.0 -->\r\n      <g transform=\"translate(7.2 102.602466)scale(0.1 -0.1)\">\r\n       <use xlink:href=\"#DejaVuSans-50\"/>\r\n       <use x=\"63.623047\" xlink:href=\"#DejaVuSans-46\"/>\r\n       <use x=\"95.410156\" xlink:href=\"#DejaVuSans-48\"/>\r\n      </g>\r\n     </g>\r\n    </g>\r\n    <g id=\"ytick_6\">\r\n     <g id=\"line2d_13\">\r\n      <g>\r\n       <use style=\"stroke:#000000;stroke-width:0.8;\" x=\"30.103125\" xlink:href=\"#m4869f9fde2\" y=\"69.535238\"/>\r\n      </g>\r\n     </g>\r\n     <g id=\"text_13\">\r\n      <!-- 2.5 -->\r\n      <g transform=\"translate(7.2 73.334457)scale(0.1 -0.1)\">\r\n       <use xlink:href=\"#DejaVuSans-50\"/>\r\n       <use x=\"63.623047\" xlink:href=\"#DejaVuSans-46\"/>\r\n       <use x=\"95.410156\" xlink:href=\"#DejaVuSans-53\"/>\r\n      </g>\r\n     </g>\r\n    </g>\r\n    <g id=\"ytick_7\">\r\n     <g id=\"line2d_14\">\r\n      <g>\r\n       <use style=\"stroke:#000000;stroke-width:0.8;\" x=\"30.103125\" xlink:href=\"#m4869f9fde2\" y=\"40.267228\"/>\r\n      </g>\r\n     </g>\r\n     <g id=\"text_14\">\r\n      <!-- 3.0 -->\r\n      <g transform=\"translate(7.2 44.066447)scale(0.1 -0.1)\">\r\n       <use xlink:href=\"#DejaVuSans-51\"/>\r\n       <use x=\"63.623047\" xlink:href=\"#DejaVuSans-46\"/>\r\n       <use x=\"95.410156\" xlink:href=\"#DejaVuSans-48\"/>\r\n      </g>\r\n     </g>\r\n    </g>\r\n    <g id=\"ytick_8\">\r\n     <g id=\"line2d_15\">\r\n      <g>\r\n       <use style=\"stroke:#000000;stroke-width:0.8;\" x=\"30.103125\" xlink:href=\"#m4869f9fde2\" y=\"10.999219\"/>\r\n      </g>\r\n     </g>\r\n     <g id=\"text_15\">\r\n      <!-- 3.5 -->\r\n      <g transform=\"translate(7.2 14.798437)scale(0.1 -0.1)\">\r\n       <use xlink:href=\"#DejaVuSans-51\"/>\r\n       <use x=\"63.623047\" xlink:href=\"#DejaVuSans-46\"/>\r\n       <use x=\"95.410156\" xlink:href=\"#DejaVuSans-53\"/>\r\n      </g>\r\n     </g>\r\n    </g>\r\n   </g>\r\n   <g id=\"line2d_16\">\r\n    <path clip-path=\"url(#p222de8d86b)\" d=\"M 45.321307 40.140436 \r\nL 45.321307 18.202558 \r\nL 76.370848 49.189718 \r\nL 94.533665 63.497577 \r\nL 107.420389 72.719351 \r\nL 117.416109 86.539073 \r\nL 125.583207 87.014262 \r\nL 132.488389 91.938653 \r\nL 138.469931 96.380284 \r\nL 143.746024 101.200801 \r\nL 148.46565 104.79575 \r\nL 152.735072 106.116664 \r\nL 156.632748 108.607509 \r\nL 160.218263 111.369184 \r\nL 163.537931 113.543318 \r\nL 166.628468 113.093362 \r\nL 169.519472 117.462116 \r\nL 172.235153 127.769798 \r\nL 174.795565 119.674108 \r\nL 177.217507 122.097071 \r\nL 179.515192 127.769798 \r\nL 183.784613 129.410488 \r\nL 185.77583 136.165159 \r\nL 187.682289 130.272329 \r\nL 189.510911 141.02214 \r\nL 191.267804 135.083214 \r\nL 192.958383 139.718169 \r\nL 194.587472 134.045443 \r\nL 196.159388 131.164415 \r\nL 197.678009 136.165159 \r\nL 199.14683 134.045443 \r\nL 200.569013 145.390895 \r\nL 201.94743 137.295206 \r\nL 203.284694 147.031585 \r\nL 204.583192 142.39663 \r\nL 205.845106 145.390895 \r\nL 207.072444 147.031585 \r\nL 208.267049 152.704312 \r\nL 209.430621 136.165159 \r\nL 210.564733 157.339267 \r\nL 211.670839 135.083214 \r\nL 212.750289 148.785513 \r\nL 213.804338 157.339267 \r\nL 214.834154 136.165159 \r\nL 215.840826 145.390895 \r\nL 216.825372 150.669476 \r\nL 217.788743 150.669476 \r\nL 219.655472 154.916304 \r\nL 220.560452 143.849704 \r\nL 221.447512 170.325409 \r\nL 222.317345 152.704312 \r\nL 223.170609 163.011993 \r\nL 224.829874 163.011993 \r\nL 225.637013 174.960364 \r\nL 226.429866 163.011993 \r\nL 227.208929 174.960364 \r\nL 227.974675 174.960364 \r\nL 228.72755 170.325409 \r\nL 229.467981 160.017728 \r\nL 230.913106 166.406611 \r\nL 231.618554 166.406611 \r\nL 232.996971 160.017728 \r\nL 233.670593 187.946507 \r\nL 234.334235 152.704312 \r\nL 234.988189 170.325409 \r\nL 235.632733 166.406611 \r\nL 236.268134 180.633091 \r\nL 236.894648 174.960364 \r\nL 237.51252 187.946507 \r\nL 238.121985 180.633091 \r\nL 238.72327 163.011993 \r\nL 239.31659 170.325409 \r\nL 239.902154 160.017728 \r\nL 240.480162 198.254188 \r\nL 241.050807 154.916304 \r\nL 241.614274 160.017728 \r\nL 242.170741 157.339267 \r\nL 242.72038 187.946507 \r\nL 243.263357 198.254188 \r\nL 243.79983 187.946507 \r\nL 244.329955 187.946507 \r\nL 244.853879 174.960364 \r\nL 245.371747 187.946507 \r\nL 246.389859 163.011993 \r\nL 246.890367 180.633091 \r\nL 247.385345 174.960364 \r\nL 247.874913 198.254188 \r\nL 248.359188 166.406611 \r\nL 248.838284 187.946507 \r\nL 249.31231 163.011993 \r\nL 249.781372 198.254188 \r\nL 250.245573 198.254188 \r\nL 250.705013 180.633091 \r\nL 251.159789 180.633091 \r\nL 251.609994 174.960364 \r\nL 252.055719 174.960364 \r\nL 252.497053 187.946507 \r\nL 252.934081 180.633091 \r\nL 253.366886 187.946507 \r\nL 253.79555 180.633091 \r\nL 254.640764 215.875286 \r\nL 255.057465 187.946507 \r\nL 255.470325 215.875286 \r\nL 255.879415 215.875286 \r\nL 256.284803 198.254188 \r\nL 256.686554 187.946507 \r\nL 257.084735 180.633091 \r\nL 257.479407 180.633091 \r\nL 257.870633 187.946507 \r\nL 258.64298 187.946507 \r\nL 259.024216 198.254188 \r\nL 259.402235 215.875286 \r\nL 259.777091 215.875286 \r\nL 260.148836 174.960364 \r\nL 260.883197 174.960364 \r\nL 261.962648 215.875286 \r\nL 262.31676 215.875286 \r\nL 263.016697 198.254188 \r\nL 263.705865 198.254188 \r\nL 264.046513 215.875286 \r\nL 264.38459 215.875286 \r\nL 265.053185 187.946507 \r\nL 265.711947 215.875286 \r\nL 266.03773 215.875286 \r\nL 266.361161 174.960364 \r\nL 266.682274 215.875286 \r\nL 267.317675 180.633091 \r\nL 267.632027 215.875286 \r\nL 267.944189 187.946507 \r\nL 268.25419 187.946507 \r\nL 268.562061 180.633091 \r\nL 269.171527 215.875286 \r\nL 269.473178 198.254188 \r\nL 269.772811 198.254188 \r\nL 270.366131 215.875286 \r\nL 271.241632 215.875286 \r\nL 271.529704 174.960364 \r\nL 271.815935 198.254188 \r\nL 272.100349 198.254188 \r\nL 272.663815 215.875286 \r\nL 273.220282 215.875286 \r\nL 273.769921 187.946507 \r\nL 274.042232 215.875286 \r\nL 274.312898 215.875286 \r\nL 274.849372 198.254188 \r\nL 275.115218 215.875286 \r\nL 277.187033 215.875286 \r\nL 277.939909 198.254188 \r\nL 278.188081 198.254188 \r\nL 278.434886 215.875286 \r\nL 279.648918 215.875286 \r\nL 280.125465 198.254188 \r\nL 280.596996 198.254188 \r\nL 281.525423 215.875286 \r\nL 281.754554 215.875286 \r\nL 282.434998 198.254188 \r\nL 282.659535 215.875286 \r\nL 285.480492 215.875286 \r\nL 285.690305 198.254188 \r\nL 285.89914 215.875286 \r\nL 287.736096 215.875286 \r\nL 288.332047 198.254188 \r\nL 288.528949 215.875286 \r\nL 288.920174 198.254188 \r\nL 291.012891 198.254188 \r\nL 291.3831 215.875286 \r\nL 291.567063 198.254188 \r\nL 292.114463 215.875286 \r\nL 295.936511 215.875286 \r\nL 296.268327 198.254188 \r\nL 296.433318 215.875286 \r\nL 349.684943 215.875286 \r\nL 349.684943 215.875286 \r\n\" style=\"fill:none;stroke:#1f77b4;stroke-linecap:square;stroke-width:1.5;\"/>\r\n   </g>\r\n   <g id=\"patch_3\">\r\n    <path d=\"M 30.103125 225.758922 \r\nL 30.103125 8.318922 \r\n\" style=\"fill:none;stroke:#000000;stroke-linecap:square;stroke-linejoin:miter;stroke-width:0.8;\"/>\r\n   </g>\r\n   <g id=\"patch_4\">\r\n    <path d=\"M 364.903125 225.758922 \r\nL 364.903125 8.318922 \r\n\" style=\"fill:none;stroke:#000000;stroke-linecap:square;stroke-linejoin:miter;stroke-width:0.8;\"/>\r\n   </g>\r\n   <g id=\"patch_5\">\r\n    <path d=\"M 30.103125 225.758922 \r\nL 364.903125 225.758922 \r\n\" style=\"fill:none;stroke:#000000;stroke-linecap:square;stroke-linejoin:miter;stroke-width:0.8;\"/>\r\n   </g>\r\n   <g id=\"patch_6\">\r\n    <path d=\"M 30.103125 8.318922 \r\nL 364.903125 8.318922 \r\n\" style=\"fill:none;stroke:#000000;stroke-linecap:square;stroke-linejoin:miter;stroke-width:0.8;\"/>\r\n   </g>\r\n  </g>\r\n </g>\r\n <defs>\r\n  <clipPath id=\"p222de8d86b\">\r\n   <rect height=\"217.44\" width=\"334.8\" x=\"30.103125\" y=\"8.318922\"/>\r\n  </clipPath>\r\n </defs>\r\n</svg>\r\n",
      "text/plain": "<Figure size 432x288 with 1 Axes>"
     },
     "metadata": {
      "needs_background": "light"
     },
     "output_type": "display_data"
    }
   ],
   "source": [
    "deg_cnt_pr = snap.TIntPrV()\n",
    "snap.GetOutDegCnt(g_wiki, deg_cnt_pr)\n",
    "x = []\n",
    "y = []\n",
    "for item in deg_cnt_pr:\n",
    "    if item.GetVal1() == 0:\n",
    "        x.append(0.0)\n",
    "    else:\n",
    "        x.append(np.log10(item.GetVal1()))\n",
    "    y.append(np.log10(item.GetVal2()))\n",
    "plt.plot(x, y)\n"
   ]
  },
  {
   "cell_type": "markdown",
   "execution_count": null,
   "metadata": {},
   "outputs": [],
   "source": [
    "### 2. Fit data"
   ]
  },
  {
   "cell_type": "code",
   "execution_count": 27,
   "metadata": {},
   "outputs": [
    {
     "name": "stdout",
     "output_type": "stream",
     "text": "The coefficients of a is -1.2764599647257473 and b is 3.1227358640570393\n"
    },
    {
     "data": {
      "image/png": "[encoded data removed]",
      "image/svg+xml": "<?xml version=\"1.0\" encoding=\"utf-8\" standalone=\"no\"?>\r\n<!DOCTYPE svg PUBLIC \"-//W3C//DTD SVG 1.1//EN\"\r\n  \"http://www.w3.org/Graphics/SVG/1.1/DTD/svg11.dtd\">\r\n<!-- Created with matplotlib (https://matplotlib.org/) -->\r\n<svg height=\"248.518125pt\" version=\"1.1\" viewBox=\"0 0 380.482812 248.518125\" width=\"380.482812pt\" xmlns=\"http://www.w3.org/2000/svg\" xmlns:xlink=\"http://www.w3.org/1999/xlink\">\r\n <defs>\r\n  <style type=\"text/css\">\r\n*{stroke-linecap:butt;stroke-linejoin:round;}\r\n  </style>\r\n </defs>\r\n <g id=\"figure_1\">\r\n  <g id=\"patch_1\">\r\n   <path d=\"M -0 248.518125 \r\nL 380.482812 248.518125 \r\nL 380.482812 0 \r\nL -0 0 \r\nz\r\n\" style=\"fill:none;\"/>\r\n  </g>\r\n  <g id=\"axes_1\">\r\n   <g id=\"patch_2\">\r\n    <path d=\"M 38.482813 224.64 \r\nL 373.282813 224.64 \r\nL 373.282813 7.2 \r\nL 38.482813 7.2 \r\nz\r\n\" style=\"fill:#ffffff;\"/>\r\n   </g>\r\n   <g id=\"matplotlib.axis_1\">\r\n    <g id=\"xtick_1\">\r\n     <g id=\"line2d_1\">\r\n      <defs>\r\n       <path d=\"M 0 0 \r\nL 0 3.5 \r\n\" id=\"m27f7dbc05e\" style=\"stroke:#000000;stroke-width:0.8;\"/>\r\n      </defs>\r\n      <g>\r\n       <use style=\"stroke:#000000;stroke-width:0.8;\" x=\"53.700994\" xlink:href=\"#m27f7dbc05e\" y=\"224.64\"/>\r\n      </g>\r\n     </g>\r\n     <g id=\"text_1\">\r\n      <!-- 0.0 -->\r\n      <defs>\r\n       <path d=\"M 31.78125 66.40625 \r\nQ 24.171875 66.40625 20.328125 58.90625 \r\nQ 16.5 51.421875 16.5 36.375 \r\nQ 16.5 21.390625 20.328125 13.890625 \r\nQ 24.171875 6.390625 31.78125 6.390625 \r\nQ 39.453125 6.390625 43.28125 13.890625 \r\nQ 47.125 21.390625 47.125 36.375 \r\nQ 47.125 51.421875 43.28125 58.90625 \r\nQ 39.453125 66.40625 31.78125 66.40625 \r\nz\r\nM 31.78125 74.21875 \r\nQ 44.046875 74.21875 50.515625 64.515625 \r\nQ 56.984375 54.828125 56.984375 36.375 \r\nQ 56.984375 17.96875 50.515625 8.265625 \r\nQ 44.046875 -1.421875 31.78125 -1.421875 \r\nQ 19.53125 -1.421875 13.0625 8.265625 \r\nQ 6.59375 17.96875 6.59375 36.375 \r\nQ 6.59375 54.828125 13.0625 64.515625 \r\nQ 19.53125 74.21875 31.78125 74.21875 \r\nz\r\n\" id=\"DejaVuSans-48\"/>\r\n       <path d=\"M 10.6875 12.40625 \r\nL 21 12.40625 \r\nL 21 0 \r\nL 10.6875 0 \r\nz\r\n\" id=\"DejaVuSans-46\"/>\r\n      </defs>\r\n      <g transform=\"translate(45.749432 239.238437)scale(0.1 -0.1)\">\r\n       <use xlink:href=\"#DejaVuSans-48\"/>\r\n       <use x=\"63.623047\" xlink:href=\"#DejaVuSans-46\"/>\r\n       <use x=\"95.410156\" xlink:href=\"#DejaVuSans-48\"/>\r\n      </g>\r\n     </g>\r\n    </g>\r\n    <g id=\"xtick_2\">\r\n     <g id=\"line2d_2\">\r\n      <g>\r\n       <use style=\"stroke:#000000;stroke-width:0.8;\" x=\"105.273166\" xlink:href=\"#m27f7dbc05e\" y=\"224.64\"/>\r\n      </g>\r\n     </g>\r\n     <g id=\"text_2\">\r\n      <!-- 0.5 -->\r\n      <defs>\r\n       <path d=\"M 10.796875 72.90625 \r\nL 49.515625 72.90625 \r\nL 49.515625 64.59375 \r\nL 19.828125 64.59375 \r\nL 19.828125 46.734375 \r\nQ 21.96875 47.46875 24.109375 47.828125 \r\nQ 26.265625 48.1875 28.421875 48.1875 \r\nQ 40.625 48.1875 47.75 41.5 \r\nQ 54.890625 34.8125 54.890625 23.390625 \r\nQ 54.890625 11.625 47.5625 5.09375 \r\nQ 40.234375 -1.421875 26.90625 -1.421875 \r\nQ 22.3125 -1.421875 17.546875 -0.640625 \r\nQ 12.796875 0.140625 7.71875 1.703125 \r\nL 7.71875 11.625 \r\nQ 12.109375 9.234375 16.796875 8.0625 \r\nQ 21.484375 6.890625 26.703125 6.890625 \r\nQ 35.15625 6.890625 40.078125 11.328125 \r\nQ 45.015625 15.765625 45.015625 23.390625 \r\nQ 45.015625 31 40.078125 35.4375 \r\nQ 35.15625 39.890625 26.703125 39.890625 \r\nQ 22.75 39.890625 18.8125 39.015625 \r\nQ 14.890625 38.140625 10.796875 36.28125 \r\nz\r\n\" id=\"DejaVuSans-53\"/>\r\n      </defs>\r\n      <g transform=\"translate(97.321604 239.238437)scale(0.1 -0.1)\">\r\n       <use xlink:href=\"#DejaVuSans-48\"/>\r\n       <use x=\"63.623047\" xlink:href=\"#DejaVuSans-46\"/>\r\n       <use x=\"95.410156\" xlink:href=\"#DejaVuSans-53\"/>\r\n      </g>\r\n     </g>\r\n    </g>\r\n    <g id=\"xtick_3\">\r\n     <g id=\"line2d_3\">\r\n      <g>\r\n       <use style=\"stroke:#000000;stroke-width:0.8;\" x=\"156.845338\" xlink:href=\"#m27f7dbc05e\" y=\"224.64\"/>\r\n      </g>\r\n     </g>\r\n     <g id=\"text_3\">\r\n      <!-- 1.0 -->\r\n      <defs>\r\n       <path d=\"M 12.40625 8.296875 \r\nL 28.515625 8.296875 \r\nL 28.515625 63.921875 \r\nL 10.984375 60.40625 \r\nL 10.984375 69.390625 \r\nL 28.421875 72.90625 \r\nL 38.28125 72.90625 \r\nL 38.28125 8.296875 \r\nL 54.390625 8.296875 \r\nL 54.390625 0 \r\nL 12.40625 0 \r\nz\r\n\" id=\"DejaVuSans-49\"/>\r\n      </defs>\r\n      <g transform=\"translate(148.893775 239.238437)scale(0.1 -0.1)\">\r\n       <use xlink:href=\"#DejaVuSans-49\"/>\r\n       <use x=\"63.623047\" xlink:href=\"#DejaVuSans-46\"/>\r\n       <use x=\"95.410156\" xlink:href=\"#DejaVuSans-48\"/>\r\n      </g>\r\n     </g>\r\n    </g>\r\n    <g id=\"xtick_4\">\r\n     <g id=\"line2d_4\">\r\n      <g>\r\n       <use style=\"stroke:#000000;stroke-width:0.8;\" x=\"208.41751\" xlink:href=\"#m27f7dbc05e\" y=\"224.64\"/>\r\n      </g>\r\n     </g>\r\n     <g id=\"text_4\">\r\n      <!-- 1.5 -->\r\n      <g transform=\"translate(200.465947 239.238437)scale(0.1 -0.1)\">\r\n       <use xlink:href=\"#DejaVuSans-49\"/>\r\n       <use x=\"63.623047\" xlink:href=\"#DejaVuSans-46\"/>\r\n       <use x=\"95.410156\" xlink:href=\"#DejaVuSans-53\"/>\r\n      </g>\r\n     </g>\r\n    </g>\r\n    <g id=\"xtick_5\">\r\n     <g id=\"line2d_5\">\r\n      <g>\r\n       <use style=\"stroke:#000000;stroke-width:0.8;\" x=\"259.989681\" xlink:href=\"#m27f7dbc05e\" y=\"224.64\"/>\r\n      </g>\r\n     </g>\r\n     <g id=\"text_5\">\r\n      <!-- 2.0 -->\r\n      <defs>\r\n       <path d=\"M 19.1875 8.296875 \r\nL 53.609375 8.296875 \r\nL 53.609375 0 \r\nL 7.328125 0 \r\nL 7.328125 8.296875 \r\nQ 12.9375 14.109375 22.625 23.890625 \r\nQ 32.328125 33.6875 34.8125 36.53125 \r\nQ 39.546875 41.84375 41.421875 45.53125 \r\nQ 43.3125 49.21875 43.3125 52.78125 \r\nQ 43.3125 58.59375 39.234375 62.25 \r\nQ 35.15625 65.921875 28.609375 65.921875 \r\nQ 23.96875 65.921875 18.8125 64.3125 \r\nQ 13.671875 62.703125 7.8125 59.421875 \r\nL 7.8125 69.390625 \r\nQ 13.765625 71.78125 18.9375 73 \r\nQ 24.125 74.21875 28.421875 74.21875 \r\nQ 39.75 74.21875 46.484375 68.546875 \r\nQ 53.21875 62.890625 53.21875 53.421875 \r\nQ 53.21875 48.921875 51.53125 44.890625 \r\nQ 49.859375 40.875 45.40625 35.40625 \r\nQ 44.1875 33.984375 37.640625 27.21875 \r\nQ 31.109375 20.453125 19.1875 8.296875 \r\nz\r\n\" id=\"DejaVuSans-50\"/>\r\n      </defs>\r\n      <g transform=\"translate(252.038119 239.238437)scale(0.1 -0.1)\">\r\n       <use xlink:href=\"#DejaVuSans-50\"/>\r\n       <use x=\"63.623047\" xlink:href=\"#DejaVuSans-46\"/>\r\n       <use x=\"95.410156\" xlink:href=\"#DejaVuSans-48\"/>\r\n      </g>\r\n     </g>\r\n    </g>\r\n    <g id=\"xtick_6\">\r\n     <g id=\"line2d_6\">\r\n      <g>\r\n       <use style=\"stroke:#000000;stroke-width:0.8;\" x=\"311.561853\" xlink:href=\"#m27f7dbc05e\" y=\"224.64\"/>\r\n      </g>\r\n     </g>\r\n     <g id=\"text_6\">\r\n      <!-- 2.5 -->\r\n      <g transform=\"translate(303.61029 239.238437)scale(0.1 -0.1)\">\r\n       <use xlink:href=\"#DejaVuSans-50\"/>\r\n       <use x=\"63.623047\" xlink:href=\"#DejaVuSans-46\"/>\r\n       <use x=\"95.410156\" xlink:href=\"#DejaVuSans-53\"/>\r\n      </g>\r\n     </g>\r\n    </g>\r\n    <g id=\"xtick_7\">\r\n     <g id=\"line2d_7\">\r\n      <g>\r\n       <use style=\"stroke:#000000;stroke-width:0.8;\" x=\"363.134025\" xlink:href=\"#m27f7dbc05e\" y=\"224.64\"/>\r\n      </g>\r\n     </g>\r\n     <g id=\"text_7\">\r\n      <!-- 3.0 -->\r\n      <defs>\r\n       <path d=\"M 40.578125 39.3125 \r\nQ 47.65625 37.796875 51.625 33 \r\nQ 55.609375 28.21875 55.609375 21.1875 \r\nQ 55.609375 10.40625 48.1875 4.484375 \r\nQ 40.765625 -1.421875 27.09375 -1.421875 \r\nQ 22.515625 -1.421875 17.65625 -0.515625 \r\nQ 12.796875 0.390625 7.625 2.203125 \r\nL 7.625 11.71875 \r\nQ 11.71875 9.328125 16.59375 8.109375 \r\nQ 21.484375 6.890625 26.8125 6.890625 \r\nQ 36.078125 6.890625 40.9375 10.546875 \r\nQ 45.796875 14.203125 45.796875 21.1875 \r\nQ 45.796875 27.640625 41.28125 31.265625 \r\nQ 36.765625 34.90625 28.71875 34.90625 \r\nL 20.21875 34.90625 \r\nL 20.21875 43.015625 \r\nL 29.109375 43.015625 \r\nQ 36.375 43.015625 40.234375 45.921875 \r\nQ 44.09375 48.828125 44.09375 54.296875 \r\nQ 44.09375 59.90625 40.109375 62.90625 \r\nQ 36.140625 65.921875 28.71875 65.921875 \r\nQ 24.65625 65.921875 20.015625 65.03125 \r\nQ 15.375 64.15625 9.8125 62.3125 \r\nL 9.8125 71.09375 \r\nQ 15.4375 72.65625 20.34375 73.4375 \r\nQ 25.25 74.21875 29.59375 74.21875 \r\nQ 40.828125 74.21875 47.359375 69.109375 \r\nQ 53.90625 64.015625 53.90625 55.328125 \r\nQ 53.90625 49.265625 50.4375 45.09375 \r\nQ 46.96875 40.921875 40.578125 39.3125 \r\nz\r\n\" id=\"DejaVuSans-51\"/>\r\n      </defs>\r\n      <g transform=\"translate(355.182462 239.238437)scale(0.1 -0.1)\">\r\n       <use xlink:href=\"#DejaVuSans-51\"/>\r\n       <use x=\"63.623047\" xlink:href=\"#DejaVuSans-46\"/>\r\n       <use x=\"95.410156\" xlink:href=\"#DejaVuSans-48\"/>\r\n      </g>\r\n     </g>\r\n    </g>\r\n   </g>\r\n   <g id=\"matplotlib.axis_2\">\r\n    <g id=\"ytick_1\">\r\n     <g id=\"line2d_8\">\r\n      <defs>\r\n       <path d=\"M 0 0 \r\nL -3.5 0 \r\n\" id=\"mf1bccdfb1f\" style=\"stroke:#000000;stroke-width:0.8;\"/>\r\n      </defs>\r\n      <g>\r\n       <use style=\"stroke:#000000;stroke-width:0.8;\" x=\"38.482813\" xlink:href=\"#mf1bccdfb1f\" y=\"207.681574\"/>\r\n      </g>\r\n     </g>\r\n     <g id=\"text_8\">\r\n      <!-- −0.5 -->\r\n      <defs>\r\n       <path d=\"M 10.59375 35.5 \r\nL 73.1875 35.5 \r\nL 73.1875 27.203125 \r\nL 10.59375 27.203125 \r\nz\r\n\" id=\"DejaVuSans-8722\"/>\r\n      </defs>\r\n      <g transform=\"translate(7.2 211.480793)scale(0.1 -0.1)\">\r\n       <use xlink:href=\"#DejaVuSans-8722\"/>\r\n       <use x=\"83.789062\" xlink:href=\"#DejaVuSans-48\"/>\r\n       <use x=\"147.412109\" xlink:href=\"#DejaVuSans-46\"/>\r\n       <use x=\"179.199219\" xlink:href=\"#DejaVuSans-53\"/>\r\n      </g>\r\n     </g>\r\n    </g>\r\n    <g id=\"ytick_2\">\r\n     <g id=\"line2d_9\">\r\n      <g>\r\n       <use style=\"stroke:#000000;stroke-width:0.8;\" x=\"38.482813\" xlink:href=\"#mf1bccdfb1f\" y=\"183.100609\"/>\r\n      </g>\r\n     </g>\r\n     <g id=\"text_9\">\r\n      <!-- 0.0 -->\r\n      <g transform=\"translate(15.579688 186.899828)scale(0.1 -0.1)\">\r\n       <use xlink:href=\"#DejaVuSans-48\"/>\r\n       <use x=\"63.623047\" xlink:href=\"#DejaVuSans-46\"/>\r\n       <use x=\"95.410156\" xlink:href=\"#DejaVuSans-48\"/>\r\n      </g>\r\n     </g>\r\n    </g>\r\n    <g id=\"ytick_3\">\r\n     <g id=\"line2d_10\">\r\n      <g>\r\n       <use style=\"stroke:#000000;stroke-width:0.8;\" x=\"38.482813\" xlink:href=\"#mf1bccdfb1f\" y=\"158.519645\"/>\r\n      </g>\r\n     </g>\r\n     <g id=\"text_10\">\r\n      <!-- 0.5 -->\r\n      <g transform=\"translate(15.579688 162.318863)scale(0.1 -0.1)\">\r\n       <use xlink:href=\"#DejaVuSans-48\"/>\r\n       <use x=\"63.623047\" xlink:href=\"#DejaVuSans-46\"/>\r\n       <use x=\"95.410156\" xlink:href=\"#DejaVuSans-53\"/>\r\n      </g>\r\n     </g>\r\n    </g>\r\n    <g id=\"ytick_4\">\r\n     <g id=\"line2d_11\">\r\n      <g>\r\n       <use style=\"stroke:#000000;stroke-width:0.8;\" x=\"38.482813\" xlink:href=\"#mf1bccdfb1f\" y=\"133.93868\"/>\r\n      </g>\r\n     </g>\r\n     <g id=\"text_11\">\r\n      <!-- 1.0 -->\r\n      <g transform=\"translate(15.579688 137.737899)scale(0.1 -0.1)\">\r\n       <use xlink:href=\"#DejaVuSans-49\"/>\r\n       <use x=\"63.623047\" xlink:href=\"#DejaVuSans-46\"/>\r\n       <use x=\"95.410156\" xlink:href=\"#DejaVuSans-48\"/>\r\n      </g>\r\n     </g>\r\n    </g>\r\n    <g id=\"ytick_5\">\r\n     <g id=\"line2d_12\">\r\n      <g>\r\n       <use style=\"stroke:#000000;stroke-width:0.8;\" x=\"38.482813\" xlink:href=\"#mf1bccdfb1f\" y=\"109.357715\"/>\r\n      </g>\r\n     </g>\r\n     <g id=\"text_12\">\r\n      <!-- 1.5 -->\r\n      <g transform=\"translate(15.579688 113.156934)scale(0.1 -0.1)\">\r\n       <use xlink:href=\"#DejaVuSans-49\"/>\r\n       <use x=\"63.623047\" xlink:href=\"#DejaVuSans-46\"/>\r\n       <use x=\"95.410156\" xlink:href=\"#DejaVuSans-53\"/>\r\n      </g>\r\n     </g>\r\n    </g>\r\n    <g id=\"ytick_6\">\r\n     <g id=\"line2d_13\">\r\n      <g>\r\n       <use style=\"stroke:#000000;stroke-width:0.8;\" x=\"38.482813\" xlink:href=\"#mf1bccdfb1f\" y=\"84.77675\"/>\r\n      </g>\r\n     </g>\r\n     <g id=\"text_13\">\r\n      <!-- 2.0 -->\r\n      <g transform=\"translate(15.579688 88.575969)scale(0.1 -0.1)\">\r\n       <use xlink:href=\"#DejaVuSans-50\"/>\r\n       <use x=\"63.623047\" xlink:href=\"#DejaVuSans-46\"/>\r\n       <use x=\"95.410156\" xlink:href=\"#DejaVuSans-48\"/>\r\n      </g>\r\n     </g>\r\n    </g>\r\n    <g id=\"ytick_7\">\r\n     <g id=\"line2d_14\">\r\n      <g>\r\n       <use style=\"stroke:#000000;stroke-width:0.8;\" x=\"38.482813\" xlink:href=\"#mf1bccdfb1f\" y=\"60.195785\"/>\r\n      </g>\r\n     </g>\r\n     <g id=\"text_14\">\r\n      <!-- 2.5 -->\r\n      <g transform=\"translate(15.579688 63.995004)scale(0.1 -0.1)\">\r\n       <use xlink:href=\"#DejaVuSans-50\"/>\r\n       <use x=\"63.623047\" xlink:href=\"#DejaVuSans-46\"/>\r\n       <use x=\"95.410156\" xlink:href=\"#DejaVuSans-53\"/>\r\n      </g>\r\n     </g>\r\n    </g>\r\n    <g id=\"ytick_8\">\r\n     <g id=\"line2d_15\">\r\n      <g>\r\n       <use style=\"stroke:#000000;stroke-width:0.8;\" x=\"38.482813\" xlink:href=\"#mf1bccdfb1f\" y=\"35.614821\"/>\r\n      </g>\r\n     </g>\r\n     <g id=\"text_15\">\r\n      <!-- 3.0 -->\r\n      <g transform=\"translate(15.579688 39.414039)scale(0.1 -0.1)\">\r\n       <use xlink:href=\"#DejaVuSans-51\"/>\r\n       <use x=\"63.623047\" xlink:href=\"#DejaVuSans-46\"/>\r\n       <use x=\"95.410156\" xlink:href=\"#DejaVuSans-48\"/>\r\n      </g>\r\n     </g>\r\n    </g>\r\n    <g id=\"ytick_9\">\r\n     <g id=\"line2d_16\">\r\n      <g>\r\n       <use style=\"stroke:#000000;stroke-width:0.8;\" x=\"38.482813\" xlink:href=\"#mf1bccdfb1f\" y=\"11.033856\"/>\r\n      </g>\r\n     </g>\r\n     <g id=\"text_16\">\r\n      <!-- 3.5 -->\r\n      <g transform=\"translate(15.579688 14.833074)scale(0.1 -0.1)\">\r\n       <use xlink:href=\"#DejaVuSans-51\"/>\r\n       <use x=\"63.623047\" xlink:href=\"#DejaVuSans-46\"/>\r\n       <use x=\"95.410156\" xlink:href=\"#DejaVuSans-53\"/>\r\n      </g>\r\n     </g>\r\n    </g>\r\n   </g>\r\n   <g id=\"line2d_17\">\r\n    <path clip-path=\"url(#pa741160f87)\" d=\"M 53.700994 35.508333 \r\nL 53.700994 17.083636 \r\nL 84.750536 43.108443 \r\nL 102.913353 55.125009 \r\nL 115.800077 62.869988 \r\nL 125.795797 74.476588 \r\nL 133.962894 74.875679 \r\nL 140.868077 79.011467 \r\nL 146.849618 82.741806 \r\nL 152.125711 86.790354 \r\nL 156.845338 89.8096 \r\nL 161.114759 90.91898 \r\nL 165.012435 93.010935 \r\nL 168.59795 95.33035 \r\nL 171.917618 97.156313 \r\nL 175.008155 96.778413 \r\nL 177.899159 100.447546 \r\nL 180.61484 109.104532 \r\nL 183.175253 102.305305 \r\nL 185.597195 104.340249 \r\nL 187.894879 109.104532 \r\nL 192.1643 110.482478 \r\nL 194.155518 116.155441 \r\nL 196.061977 111.206302 \r\nL 197.890599 120.234615 \r\nL 199.647491 115.246762 \r\nL 201.33807 119.139464 \r\nL 202.967159 114.375181 \r\nL 204.539076 111.955528 \r\nL 206.057696 116.155441 \r\nL 207.526517 114.375181 \r\nL 208.948701 123.903748 \r\nL 210.327118 117.10452 \r\nL 211.664382 125.281694 \r\nL 212.962879 121.388991 \r\nL 214.224794 123.903748 \r\nL 215.452132 125.281694 \r\nL 216.646736 130.045977 \r\nL 217.810309 116.155441 \r\nL 218.94442 133.93868 \r\nL 220.050526 115.246762 \r\nL 221.129977 126.754744 \r\nL 222.184026 133.93868 \r\nL 223.213842 116.155441 \r\nL 224.220514 123.903748 \r\nL 225.205059 128.337005 \r\nL 226.16843 128.337005 \r\nL 228.035159 131.903736 \r\nL 228.94014 122.609366 \r\nL 229.827199 144.845192 \r\nL 230.697033 130.045977 \r\nL 231.550297 138.702963 \r\nL 233.209561 138.702963 \r\nL 234.016701 148.737895 \r\nL 234.809553 138.702963 \r\nL 235.588617 148.737895 \r\nL 236.354362 148.737895 \r\nL 237.107238 144.845192 \r\nL 237.847668 136.188206 \r\nL 239.292794 141.553959 \r\nL 239.998242 141.553959 \r\nL 241.376659 136.188206 \r\nL 242.050281 159.644408 \r\nL 242.713923 130.045977 \r\nL 243.367876 144.845192 \r\nL 244.01242 141.553959 \r\nL 244.647821 153.502179 \r\nL 245.274335 148.737895 \r\nL 245.892207 159.644408 \r\nL 246.501673 153.502179 \r\nL 247.102957 138.702963 \r\nL 247.696277 144.845192 \r\nL 248.281842 136.188206 \r\nL 248.85985 168.301394 \r\nL 249.430495 131.903736 \r\nL 249.993962 136.188206 \r\nL 250.550429 133.93868 \r\nL 251.100068 159.644408 \r\nL 251.643044 168.301394 \r\nL 252.179518 159.644408 \r\nL 252.709643 159.644408 \r\nL 253.233567 148.737895 \r\nL 253.751434 159.644408 \r\nL 254.769547 138.702963 \r\nL 255.270055 153.502179 \r\nL 255.765033 148.737895 \r\nL 256.2546 168.301394 \r\nL 256.738876 141.553959 \r\nL 257.217971 159.644408 \r\nL 257.691997 138.702963 \r\nL 258.161059 168.301394 \r\nL 258.62526 168.301394 \r\nL 259.084701 153.502179 \r\nL 259.539476 153.502179 \r\nL 259.989681 148.737895 \r\nL 260.435406 148.737895 \r\nL 260.87674 159.644408 \r\nL 261.313768 153.502179 \r\nL 261.746574 159.644408 \r\nL 262.175238 153.502179 \r\nL 263.020452 183.100609 \r\nL 263.437153 159.644408 \r\nL 263.850013 183.100609 \r\nL 264.259103 183.100609 \r\nL 264.66449 168.301394 \r\nL 265.066242 159.644408 \r\nL 265.464422 153.502179 \r\nL 265.859095 153.502179 \r\nL 266.25032 159.644408 \r\nL 267.022667 159.644408 \r\nL 267.403904 168.301394 \r\nL 267.781923 183.100609 \r\nL 268.156779 183.100609 \r\nL 268.528524 148.737895 \r\nL 269.262885 148.737895 \r\nL 270.342335 183.100609 \r\nL 270.696448 183.100609 \r\nL 271.396384 168.301394 \r\nL 272.085552 168.301394 \r\nL 272.4262 183.100609 \r\nL 272.764277 183.100609 \r\nL 273.432872 159.644408 \r\nL 274.091634 183.100609 \r\nL 274.417418 183.100609 \r\nL 274.740849 148.737895 \r\nL 275.061962 183.100609 \r\nL 275.697363 153.502179 \r\nL 276.011715 183.100609 \r\nL 276.323877 159.644408 \r\nL 276.633878 159.644408 \r\nL 276.941749 153.502179 \r\nL 277.551214 183.100609 \r\nL 277.852865 168.301394 \r\nL 278.152499 168.301394 \r\nL 278.745819 183.100609 \r\nL 279.621319 183.100609 \r\nL 279.909391 148.737895 \r\nL 280.195622 168.301394 \r\nL 280.480036 168.301394 \r\nL 281.043503 183.100609 \r\nL 281.59997 183.100609 \r\nL 282.149609 159.644408 \r\nL 282.42192 183.100609 \r\nL 282.692585 183.100609 \r\nL 283.229059 168.301394 \r\nL 283.494906 183.100609 \r\nL 285.566721 183.100609 \r\nL 286.319596 168.301394 \r\nL 286.567769 168.301394 \r\nL 286.814574 183.100609 \r\nL 288.028605 183.100609 \r\nL 288.505153 168.301394 \r\nL 288.976683 168.301394 \r\nL 289.905111 183.100609 \r\nL 290.134242 183.100609 \r\nL 290.814686 168.301394 \r\nL 291.039222 183.100609 \r\nL 293.86018 183.100609 \r\nL 294.069993 168.301394 \r\nL 294.278828 183.100609 \r\nL 296.115783 183.100609 \r\nL 296.711735 168.301394 \r\nL 296.908636 183.100609 \r\nL 297.299861 168.301394 \r\nL 299.392578 168.301394 \r\nL 299.762787 183.100609 \r\nL 299.946751 168.301394 \r\nL 300.494151 183.100609 \r\nL 304.316198 183.100609 \r\nL 304.648014 168.301394 \r\nL 304.813006 183.100609 \r\nL 358.064631 183.100609 \r\nL 358.064631 183.100609 \r\n\" style=\"fill:none;stroke:#1f77b4;stroke-linecap:square;stroke-width:1.5;\"/>\r\n   </g>\r\n   <g id=\"line2d_18\">\r\n    <path clip-path=\"url(#pa741160f87)\" d=\"M 53.700994 29.580889 \r\nL 358.064631 214.756364 \r\nL 358.064631 214.756364 \r\n\" style=\"fill:none;stroke:#ff7f0e;stroke-linecap:square;stroke-width:1.5;\"/>\r\n   </g>\r\n   <g id=\"patch_3\">\r\n    <path d=\"M 38.482813 224.64 \r\nL 38.482813 7.2 \r\n\" style=\"fill:none;stroke:#000000;stroke-linecap:square;stroke-linejoin:miter;stroke-width:0.8;\"/>\r\n   </g>\r\n   <g id=\"patch_4\">\r\n    <path d=\"M 373.282813 224.64 \r\nL 373.282813 7.2 \r\n\" style=\"fill:none;stroke:#000000;stroke-linecap:square;stroke-linejoin:miter;stroke-width:0.8;\"/>\r\n   </g>\r\n   <g id=\"patch_5\">\r\n    <path d=\"M 38.482813 224.64 \r\nL 373.282812 224.64 \r\n\" style=\"fill:none;stroke:#000000;stroke-linecap:square;stroke-linejoin:miter;stroke-width:0.8;\"/>\r\n   </g>\r\n   <g id=\"patch_6\">\r\n    <path d=\"M 38.482813 7.2 \r\nL 373.282812 7.2 \r\n\" style=\"fill:none;stroke:#000000;stroke-linecap:square;stroke-linejoin:miter;stroke-width:0.8;\"/>\r\n   </g>\r\n  </g>\r\n </g>\r\n <defs>\r\n  <clipPath id=\"pa741160f87\">\r\n   <rect height=\"217.44\" width=\"334.8\" x=\"38.482813\" y=\"7.2\"/>\r\n  </clipPath>\r\n </defs>\r\n</svg>\r\n",
      "text/plain": "<Figure size 432x288 with 1 Axes>"
     },
     "metadata": {
      "needs_background": "light"
     },
     "output_type": "display_data"
    }
   ],
   "source": [
    "data_x = np.array(x)\n",
    "data_y = np.array(y)\n",
    "param = np.polyfit(x, y, 1)\n",
    "z = data_x * param[0] + param[1]\n",
    "plt.plot(x, y)\n",
    "plt.plot(x, z)\n",
    "\n",
    "print(f\"The coefficients of a is {param[0]} and b is {param[1]}\")"
   ]
  },
  {
   "cell_type": "markdown",
   "execution_count": null,
   "metadata": {},
   "outputs": [],
   "source": [
    "## Finding experts on the Java programming language on StakOverflow"
   ]
  },
  {
   "cell_type": "code",
   "execution_count": 28,
   "metadata": {},
   "outputs": [],
   "source": [
    "# There exists duplicate edges. We must use Network instand Graph\n",
    "g_java = snap.LoadEdgeList_PNEANet(\"stackoverflow-Java.txt\")"
   ]
  },
  {
   "cell_type": "code",
   "execution_count": 33,
   "metadata": {},
   "outputs": [
    {
     "name": "stdout",
     "output_type": "stream",
     "text": "358867\n"
    }
   ],
   "source": [
    "print(g_java.GetEdges())"
   ]
  },
  {
   "cell_type": "markdown",
   "execution_count": null,
   "metadata": {},
   "outputs": [],
   "source": [
    "### 1. The number of weakly connected components in the network"
   ]
  },
  {
   "cell_type": "code",
   "execution_count": 29,
   "metadata": {},
   "outputs": [
    {
     "name": "stdout",
     "output_type": "stream",
     "text": "The number of weakly connected components in the network is 10143\n"
    }
   ],
   "source": [
    "com = snap.TCnComV()\n",
    "snap.GetWccs(g_java, com)\n",
    "print(f\"The number of weakly connected components in the network is {com.Len()}\")"
   ]
  },
  {
   "cell_type": "markdown",
   "execution_count": null,
   "metadata": {},
   "outputs": [],
   "source": [
    "### 2. The number of edges and the number of nodes in the largest weakly connected component"
   ]
  },
  {
   "cell_type": "code",
   "execution_count": 30,
   "metadata": {},
   "outputs": [
    {
     "name": "stdout",
     "output_type": "stream",
     "text": "The number of edges in the largest weakly connected component is 347297\nThe number of nodes in the largest weakly connected component is 131188\n"
    }
   ],
   "source": [
    "max_wcc = snap.GetMxWcc(g_java)\n",
    "print(f\"The number of edges in the largest weakly connected component is {max_wcc.GetEdges()}\")\n",
    "print(f\"The number of nodes in the largest weakly connected component is {max_wcc.GetNodes()}\")"
   ]
  },
  {
   "cell_type": "markdown",
   "execution_count": null,
   "metadata": {},
   "outputs": [],
   "source": [
    "### 3. IDs of the top 3 most central nodes in the network by PageRank scores"
   ]
  },
  {
   "cell_type": "code",
   "execution_count": 31,
   "metadata": {},
   "outputs": [
    {
     "name": "stdout",
     "output_type": "stream",
     "text": "992484 0.014487640265633013\n135152 0.009713897354211635\n139985 0.0075449138999974545\n"
    }
   ],
   "source": [
    "page_rank_h = snap.TIntFltH()\n",
    "snap.GetPageRank(g_java, page_rank_h)\n",
    "page_rank_h.SortByDat(False)\n",
    "idx = 0\n",
    "for item in page_rank_h:\n",
    "    print(item, page_rank_h[item])\n",
    "    idx += 1\n",
    "    if idx >= 3:\n",
    "        break"
   ]
  },
  {
   "cell_type": "markdown",
   "execution_count": null,
   "metadata": {},
   "outputs": [],
   "source": [
    "### 4. IDs of the top 3 hubs and top 3 authorities in the network by HITS scores"
   ]
  },
  {
   "cell_type": "code",
   "execution_count": 32,
   "metadata": {},
   "outputs": [
    {
     "name": "stdout",
     "output_type": "stream",
     "text": "IDs of the top 3 hubs\n614141 0.25893819769439114\n240337 0.17952104555814175\n100516 0.16955401992174304\n\nIDs of the top 3 authorities\n157882 0.7990595928120374\n22656 0.312252491402458\n203907 0.21661194242000273\n"
    }
   ],
   "source": [
    "nid_hub_h = snap.TIntFltH()\n",
    "nid_auth_h = snap.TIntFltH()\n",
    "snap.GetHits(g_java, nid_hub_h, nid_auth_h)\n",
    "nid_hub_h.SortByDat(False)\n",
    "nid_auth_h.SortByDat(False)\n",
    "\n",
    "print(\"IDs of the top 3 hubs\")\n",
    "idx = 0\n",
    "for item in nid_hub_h:\n",
    "    print(item, nid_hub_h[item])\n",
    "    idx += 1\n",
    "    if idx >= 3:\n",
    "        break\n",
    "\n",
    "print()\n",
    "print(\"IDs of the top 3 authorities\")\n",
    "idx = 0\n",
    "for item in nid_auth_h:\n",
    "    print(item, nid_auth_h[item])\n",
    "    idx += 1\n",
    "    if idx >= 3:\n",
    "        break"
   ]
  }
 ]
}